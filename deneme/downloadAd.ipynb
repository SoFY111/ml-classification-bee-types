{
 "cells": [
  {
   "cell_type": "code",
   "execution_count": 8,
   "id": "5c3935b4-2aa4-41c6-b655-6d78d31828bc",
   "metadata": {},
   "outputs": [],
   "source": [
    "from pydub import AudioSegment\n",
    "import os\n",
    "from youtube_dl import YoutubeDL\n",
    "\n",
    "import os\n",
    "\n",
    "video_url = 'https://www.youtube.com/watch?v=nxtX1qGrMCo'\n",
    "filename = './data/beeBird/'"
   ]
  },
  {
   "cell_type": "code",
   "execution_count": 11,
   "id": "9bc7fd4c-c1d5-4fbd-b475-bfef2c64133f",
   "metadata": {
    "tags": []
   },
   "outputs": [
    {
     "name": "stdout",
     "output_type": "stream",
     "text": [
      "[youtube] nxtX1qGrMCo: Downloading webpage\n",
      "[youtube] nxtX1qGrMCo: Downloading MPD manifest\n",
      "[download] Destination: data\\beeBird.m4a\n",
      "[download] 100% of 433.00KiB in 00:08                 \n",
      "[ffmpeg] Correcting container in \"data\\beeBird.m4a\"\n",
      "[ffmpeg] Destination: data\\beeBird.mp3\n",
      "Deleting original file data\\beeBird.m4a (pass -k to keep)\n"
     ]
    }
   ],
   "source": [
    "ydl_opts = {\n",
    "    'format': 'bestaudio/best',\n",
    "    'postprocessors': [{\n",
    "        'key': 'FFmpegExtractAudio',\n",
    "        'preferredcodec': 'mp3',\n",
    "        'preferredquality': '192',\n",
    "    }],\n",
    "    'outtmpl': './data/beeBird.%(ext)s'\n",
    "}\n",
    "with YoutubeDL(ydl_opts) as ydl:\n",
    "    ydl.download([video_url])\n"
   ]
  },
  {
   "cell_type": "code",
   "execution_count": 12,
   "id": "3d70f8dc-bef5-4756-b1e4-916a53bdfccc",
   "metadata": {
    "tags": []
   },
   "outputs": [],
   "source": [
    "song = AudioSegment.from_mp3('./data/beeBird.mp3')"
   ]
  },
  {
   "cell_type": "code",
   "execution_count": 14,
   "id": "f2c4bd9a-de20-4d35-aa29-bf570dd96f27",
   "metadata": {},
   "outputs": [
    {
     "data": {
      "text/plain": [
       "<_io.BufferedRandom name='./data/beeBird/converted/beeBird1.wav'>"
      ]
     },
     "execution_count": 14,
     "metadata": {},
     "output_type": "execute_result"
    }
   ],
   "source": [
    "song.export('./data/beeBird/converted/beeBird1.wav', format='wav')"
   ]
  },
  {
   "cell_type": "code",
   "execution_count": 15,
   "id": "606a1073-1be5-4973-982c-ea396dac0084",
   "metadata": {},
   "outputs": [],
   "source": [
    "song = AudioSegment.from_wav('./data/beeBird/converted/beeBird1.wav')"
   ]
  },
  {
   "cell_type": "code",
   "execution_count": 16,
   "id": "ba41d09b-7091-41d7-95c1-47f953029422",
   "metadata": {},
   "outputs": [
    {
     "data": {
      "text/plain": [
       "27.329886621315193"
      ]
     },
     "execution_count": 16,
     "metadata": {},
     "output_type": "execute_result"
    }
   ],
   "source": [
    "song.duration_seconds"
   ]
  },
  {
   "cell_type": "code",
   "execution_count": null,
   "id": "3d143a59-3447-4533-b87c-bb18fa6bd97a",
   "metadata": {},
   "outputs": [],
   "source": []
  }
 ],
 "metadata": {
  "kernelspec": {
   "display_name": "Python 3 (ipykernel)",
   "language": "python",
   "name": "python3"
  },
  "language_info": {
   "codemirror_mode": {
    "name": "ipython",
    "version": 3
   },
   "file_extension": ".py",
   "mimetype": "text/x-python",
   "name": "python",
   "nbconvert_exporter": "python",
   "pygments_lexer": "ipython3",
   "version": "3.9.1"
  }
 },
 "nbformat": 4,
 "nbformat_minor": 5
}
