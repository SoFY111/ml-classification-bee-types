{
 "cells": [
  {
   "cell_type": "code",
   "execution_count": null,
   "id": "7c19e1c2-ae18-4374-b547-45be009f9866",
   "metadata": {},
   "outputs": [],
   "source": [
    "from youtube_dl import YoutubeDL\n",
    "import json\n",
    "from pydub import AudioSegment\n",
    "import os"
   ]
  },
  {
   "cell_type": "code",
   "execution_count": null,
   "id": "2c21da3f-e5e2-47b8-8305-ec22646a598e",
   "metadata": {
    "tags": []
   },
   "outputs": [],
   "source": [
    "YoutubeDL()._ies = [YoutubeDL().get_info_extractor('Youtube')]"
   ]
  },
  {
   "cell_type": "code",
   "execution_count": null,
   "id": "f4f0341a-8b09-4a74-8730-bffc4309ac2d",
   "metadata": {
    "tags": []
   },
   "outputs": [],
   "source": [
    "def downloadAudio(link, folderName, counter):\n",
    "    video_url = link\n",
    "    video_info = YoutubeDL().extract_info(url = video_url,download=False)\n",
    "    ydl_opts = {\n",
    "    'format': 'bestaudio/best',\n",
    "    'postprocessors': [{\n",
    "        'key': 'FFmpegExtractAudio',\n",
    "        'preferredcodec': 'mp3',\n",
    "        'preferredquality': '192',\n",
    "        }],\n",
    "    'outtmpl': './data2/' + folderName + '/' + folderName + str(counter) + '.%(ext)s'\n",
    "    }\n",
    "    filename = './data2/' + folderName + '/' + folderName + str(counter) + \".mp3\"\n",
    "    with YoutubeDL(ydl_opts) as ydl:\n",
    "        ydl.download([video_info['webpage_url']])\n",
    "    print(\"Download complete... {}\".format(filename))\n",
    "    \n",
    "def convertMP3toWAV(folderName, counter):\n",
    "    song = AudioSegment.from_mp3('./data2/' + folderName + '/' + folderName + str(counter) + '.mp3')\n",
    "    song.export('./data2/' + folderName + '/converted/' + folderName + str(counter) + '.wav', format='wav')\n",
    "    print('Converted complete... {}'.format('./data2/' + folderName + '/converted/' + folderName + str(counter) + '.wav'))\n",
    "    \n",
    "#downloadAudio('https://www.youtube.com/watch?v=XLWI9AXERTE', 'deneme', '1')"
   ]
  },
  {
   "cell_type": "code",
   "execution_count": null,
   "id": "942d1112-0b46-4920-b8e1-7edb8e2a7972",
   "metadata": {
    "tags": []
   },
   "outputs": [],
   "source": [
    "f = open('audioData.json')\n",
    "data = json.load(f)\n",
    "counter = 1\n",
    "for i in data:\n",
    "    \n",
    "    try:\n",
    "        os.mkdir('./data2/' + str(i))\n",
    "        os.mkdir('./data2/' + str(i) + '/converted')\n",
    "        os.mkdir('./data2/' + str(i) + '/converted/splitted')\n",
    "        \n",
    "        print('Dizin olusturuldu: /' + str(i) + '/converted/splitted')\n",
    "    except:\n",
    "        print('Dizin olusturulmadi: /' + str(i) + '/converted/splitted')\n",
    "    counter = 1\n",
    "    for j in data[i]:\n",
    "        try:\n",
    "            print('\\n\\n ------------------------ \\n')\n",
    "            print(i)\n",
    "            print(j['link'], str(counter))\n",
    "            downloadAudio(j['link'], i, counter)\n",
    "            print('\\n INDIRME ISLEMI BITTI \\n')\n",
    "            print('CEVIRME ISLEMI BASLIYOR \\n')\n",
    "            convertMP3toWAV(i, counter)\n",
    "            print('\\n ------------------------ \\n\\n')\n",
    "        except:\n",
    "            print('HATA!!:' ,j['link'].split('=')[1], 'indirilemedi ', counter)\n",
    "        counter= counter + 1 \n",
    "# Closing file\n",
    "f.close()"
   ]
  },
  {
   "cell_type": "code",
   "execution_count": null,
   "id": "654bff50-83df-4b9f-a9b1-9f5094a453c4",
   "metadata": {},
   "outputs": [],
   "source": []
  }
 ],
 "metadata": {
  "kernelspec": {
   "display_name": "Python 3 (ipykernel)",
   "language": "python",
   "name": "python3"
  },
  "language_info": {
   "codemirror_mode": {
    "name": "ipython",
    "version": 3
   },
   "file_extension": ".py",
   "mimetype": "text/x-python",
   "name": "python",
   "nbconvert_exporter": "python",
   "pygments_lexer": "ipython3",
   "version": "3.9.1"
  }
 },
 "nbformat": 4,
 "nbformat_minor": 5
}
