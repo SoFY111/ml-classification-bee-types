{
 "cells": [
  {
   "cell_type": "code",
   "execution_count": 5,
   "id": "94f8f319",
   "metadata": {},
   "outputs": [],
   "source": [
    "import pandas as pd \n",
    "from sklearn.tree import DecisionTreeClassifier\n",
    "from sklearn.model_selection import train_test_split\n",
    "\n",
    "from sklearn import metrics"
   ]
  },
  {
   "cell_type": "code",
   "execution_count": 13,
   "id": "9c7f9abf",
   "metadata": {},
   "outputs": [
    {
     "data": {
      "text/html": [
       "<div>\n",
       "<style scoped>\n",
       "    .dataframe tbody tr th:only-of-type {\n",
       "        vertical-align: middle;\n",
       "    }\n",
       "\n",
       "    .dataframe tbody tr th {\n",
       "        vertical-align: top;\n",
       "    }\n",
       "\n",
       "    .dataframe thead th {\n",
       "        text-align: right;\n",
       "    }\n",
       "</style>\n",
       "<table border=\"1\" class=\"dataframe\">\n",
       "  <thead>\n",
       "    <tr style=\"text-align: right;\">\n",
       "      <th></th>\n",
       "      <th>filename</th>\n",
       "      <th>chroma_frequency</th>\n",
       "      <th>sp_centroid</th>\n",
       "      <th>spectral_bandwidth</th>\n",
       "      <th>rolloff</th>\n",
       "      <th>zero_crossing_rate</th>\n",
       "      <th>mfcc</th>\n",
       "      <th>label</th>\n",
       "    </tr>\n",
       "  </thead>\n",
       "  <tbody>\n",
       "    <tr>\n",
       "      <th>0</th>\n",
       "      <td>0_araba.wav</td>\n",
       "      <td>0.925419</td>\n",
       "      <td>5207.658408</td>\n",
       "      <td>3302.369712</td>\n",
       "      <td>9194.677734</td>\n",
       "      <td>0.000488</td>\n",
       "      <td>-8.651381</td>\n",
       "      <td>araba</td>\n",
       "    </tr>\n",
       "    <tr>\n",
       "      <th>1</th>\n",
       "      <td>0_araba1.wav</td>\n",
       "      <td>0.241507</td>\n",
       "      <td>1178.609159</td>\n",
       "      <td>1594.737673</td>\n",
       "      <td>2332.165527</td>\n",
       "      <td>0.031788</td>\n",
       "      <td>-1.927632</td>\n",
       "      <td>araba</td>\n",
       "    </tr>\n",
       "    <tr>\n",
       "      <th>2</th>\n",
       "      <td>0_car.wav</td>\n",
       "      <td>0.330019</td>\n",
       "      <td>804.282241</td>\n",
       "      <td>1458.745530</td>\n",
       "      <td>1517.841593</td>\n",
       "      <td>0.022377</td>\n",
       "      <td>-1.788026</td>\n",
       "      <td>araba</td>\n",
       "    </tr>\n",
       "    <tr>\n",
       "      <th>3</th>\n",
       "      <td>100_araba.wav</td>\n",
       "      <td>0.552048</td>\n",
       "      <td>1482.507282</td>\n",
       "      <td>1802.280106</td>\n",
       "      <td>3025.564575</td>\n",
       "      <td>0.059837</td>\n",
       "      <td>5.683957</td>\n",
       "      <td>araba</td>\n",
       "    </tr>\n",
       "    <tr>\n",
       "      <th>4</th>\n",
       "      <td>100_araba1.wav</td>\n",
       "      <td>0.294267</td>\n",
       "      <td>1309.865628</td>\n",
       "      <td>1289.780176</td>\n",
       "      <td>2245.883179</td>\n",
       "      <td>0.070170</td>\n",
       "      <td>-7.597847</td>\n",
       "      <td>araba</td>\n",
       "    </tr>\n",
       "  </tbody>\n",
       "</table>\n",
       "</div>"
      ],
      "text/plain": [
       "         filename  chroma_frequency  sp_centroid  spectral_bandwidth  \\\n",
       "0     0_araba.wav          0.925419  5207.658408         3302.369712   \n",
       "1    0_araba1.wav          0.241507  1178.609159         1594.737673   \n",
       "2       0_car.wav          0.330019   804.282241         1458.745530   \n",
       "3   100_araba.wav          0.552048  1482.507282         1802.280106   \n",
       "4  100_araba1.wav          0.294267  1309.865628         1289.780176   \n",
       "\n",
       "       rolloff  zero_crossing_rate      mfcc  label  \n",
       "0  9194.677734            0.000488 -8.651381  araba  \n",
       "1  2332.165527            0.031788 -1.927632  araba  \n",
       "2  1517.841593            0.022377 -1.788026  araba  \n",
       "3  3025.564575            0.059837  5.683957  araba  \n",
       "4  2245.883179            0.070170 -7.597847  araba  "
      ]
     },
     "execution_count": 13,
     "metadata": {},
     "output_type": "execute_result"
    }
   ],
   "source": [
    "data=pd.read_csv(\"C:\\\\Users\\\\asus\\\\Desktop\\\\projeee\\\\dataAudio0.csv\",encoding=\"ISO-8859-1\")\n",
    "col_name=['filename','chroma_frequency','sp_centroid','spectral_bandwidth','rolloff','zero_crossing_rate','mfcc','label']\n",
    "data.columns=col_name\n",
    "data.head()\n"
   ]
  },
  {
   "cell_type": "code",
   "execution_count": 17,
   "id": "4cb6567e",
   "metadata": {},
   "outputs": [
    {
     "name": "stdout",
     "output_type": "stream",
     "text": [
      "      chroma_frequency  sp_centroid  spectral_bandwidth      rolloff  \\\n",
      "0             0.925419  5207.658408         3302.369712  9194.677734   \n",
      "1             0.241507  1178.609159         1594.737673  2332.165527   \n",
      "2             0.330019   804.282241         1458.745530  1517.841593   \n",
      "3             0.552048  1482.507282         1802.280106  3025.564575   \n",
      "4             0.294267  1309.865628         1289.780176  2245.883179   \n",
      "...                ...          ...                 ...          ...   \n",
      "9918          0.573398  1745.196088         2201.663077  3807.987467   \n",
      "9919          0.668344  1513.386773         2088.230131  3365.609741   \n",
      "9920          0.572255  1780.400875         2241.761464  3915.354411   \n",
      "9921          0.490301  2639.185421         2642.039953  5280.619303   \n",
      "9922          0.576898  1750.781627         2214.726942  3837.545776   \n",
      "\n",
      "      zero_crossing_rate      mfcc  \n",
      "0               0.000488 -8.651381  \n",
      "1               0.031788 -1.927632  \n",
      "2               0.022377 -1.788026  \n",
      "3               0.059837  5.683957  \n",
      "4               0.070170 -7.597847  \n",
      "...                  ...       ...  \n",
      "9918            0.068402  7.743171  \n",
      "9919            0.051500 -3.349851  \n",
      "9920            0.068836  7.491671  \n",
      "9921            0.120906 -9.750813  \n",
      "9922            0.072268  4.882142  \n",
      "\n",
      "[9923 rows x 6 columns]\n",
      "0       araba\n",
      "1       araba\n",
      "2       araba\n",
      "3       araba\n",
      "4       araba\n",
      "        ...  \n",
      "9918     uçak\n",
      "9919     uçak\n",
      "9920     uçak\n",
      "9921     uçak\n",
      "9922     uçak\n",
      "Name: label, Length: 9923, dtype: object\n"
     ]
    }
   ],
   "source": [
    "feature_cols=['chroma_frequency','sp_centroid','spectral_bandwidth','rolloff','zero_crossing_rate','mfcc']\n",
    "X=data[feature_cols]\n",
    "y=data.label\n",
    "print(X)\n",
    "print(y)\n"
   ]
  },
  {
   "cell_type": "code",
   "execution_count": 18,
   "id": "c04670e1",
   "metadata": {},
   "outputs": [
    {
     "name": "stdout",
     "output_type": "stream",
     "text": [
      "      chroma_frequency  sp_centroid  spectral_bandwidth      rolloff  \\\n",
      "3404          0.538905  1055.383380         1658.485822  2077.405802   \n",
      "5978          0.523294  1121.775627         1750.462516  2361.474609   \n",
      "5709          0.610148   849.233556          771.593581  1569.182332   \n",
      "6132          0.574428  1176.653583         1690.935649  2548.295085   \n",
      "4826          0.611918   847.815992          768.647650  1567.338053   \n",
      "...                ...          ...                 ...          ...   \n",
      "2951          0.577861  1058.746477         1693.624517  2128.846232   \n",
      "7053          0.475016  2330.985064         2571.025972  4919.639079   \n",
      "1304          0.569309   761.521483         1470.585380  1335.905965   \n",
      "2987          0.549116  1084.687526         1671.011749  2116.933187   \n",
      "8191          0.608640   756.392708         1366.983005  1101.283773   \n",
      "\n",
      "      zero_crossing_rate       mfcc  \n",
      "3404            0.028931   5.176661  \n",
      "5978            0.030230   6.081040  \n",
      "5709            0.054728  -0.114676  \n",
      "6132            0.038800   6.610958  \n",
      "4826            0.055074  -0.083274  \n",
      "...                  ...        ...  \n",
      "2951            0.025309   4.531166  \n",
      "7053            0.099514 -11.609178  \n",
      "1304            0.019391   3.178709  \n",
      "2987            0.029191   5.286934  \n",
      "8191            0.030909 -10.047809  \n",
      "\n",
      "[1985 rows x 6 columns]\n"
     ]
    }
   ],
   "source": [
    "X_train, X_test, y_train,y_test= train_test_split(X,y, test_size=0.2, random_state=1)\n",
    "print(X_test)"
   ]
  },
  {
   "cell_type": "code",
   "execution_count": 19,
   "id": "a07cd8bb",
   "metadata": {},
   "outputs": [],
   "source": [
    "dt=DecisionTreeClassifier()\n",
    "dt=dt.fit(X_train,y_train)"
   ]
  },
  {
   "cell_type": "code",
   "execution_count": 20,
   "id": "ce71ea83",
   "metadata": {},
   "outputs": [
    {
     "name": "stdout",
     "output_type": "stream",
     "text": [
      "Acc 0.8065491183879093\n"
     ]
    }
   ],
   "source": [
    "y_pred=dt.predict(X_test)\n",
    "print(\"Acc\",metrics.accuracy_score(y_test,y_pred))"
   ]
  },
  {
   "cell_type": "code",
   "execution_count": null,
   "id": "65a4028e",
   "metadata": {},
   "outputs": [],
   "source": []
  }
 ],
 "metadata": {
  "kernelspec": {
   "display_name": "Python 3 (ipykernel)",
   "language": "python",
   "name": "python3"
  },
  "language_info": {
   "codemirror_mode": {
    "name": "ipython",
    "version": 3
   },
   "file_extension": ".py",
   "mimetype": "text/x-python",
   "name": "python",
   "nbconvert_exporter": "python",
   "pygments_lexer": "ipython3",
   "version": "3.9.1"
  }
 },
 "nbformat": 4,
 "nbformat_minor": 5
}
