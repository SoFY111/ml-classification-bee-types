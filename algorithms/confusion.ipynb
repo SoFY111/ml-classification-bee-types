{
 "cells": [
  {
   "cell_type": "code",
   "execution_count": 1,
   "id": "a006e4e2",
   "metadata": {},
   "outputs": [
    {
     "name": "stdout",
     "output_type": "stream",
     "text": [
      "              filename  chroma_frequency  sp_centroid  spectral_bandwidth  \\\n",
      "0         boombap1.wav          0.453958  1958.596101         2242.096760   \n",
      "1        boombap10.wav          0.464496  2986.492353         2837.508148   \n",
      "2       boombap100.wav          0.459968  2377.117125         2708.232787   \n",
      "3      boombap1000.wav          0.493061  2218.901984         2303.409329   \n",
      "4      boombap1001.wav          0.502233  2215.360115         2261.072044   \n",
      "...                ...               ...          ...                 ...   \n",
      "12193      trap995.wav          0.479732  2341.972464         2381.461711   \n",
      "12194      trap996.wav          0.586347  2309.798019         2479.139534   \n",
      "12195      trap997.wav          0.572542  2055.582032         2287.343790   \n",
      "12196      trap998.wav          0.531964  2348.962830         2425.149789   \n",
      "12197      trap999.wav          0.485520  2315.664751         2374.392025   \n",
      "\n",
      "           rolloff  zero_crossing_rate      mfcc    label  \n",
      "0      4128.825034            0.082547  7.353139  boombap  \n",
      "1      6292.511950            0.147826  2.782494  boombap  \n",
      "2      5411.317279            0.064741  8.356519  boombap  \n",
      "3      4625.305365            0.101993  4.666915  boombap  \n",
      "4      4563.039075            0.105489  4.909902  boombap  \n",
      "...            ...                 ...       ...      ...  \n",
      "12193  4880.220490            0.098807  6.350958     trap  \n",
      "12194  4966.919966            0.068026  6.352512     trap  \n",
      "12195  4201.607927            0.059735  6.019572     trap  \n",
      "12196  4921.086910            0.083488  6.259667     trap  \n",
      "12197  4841.720723            0.096273  6.413976     trap  \n",
      "\n",
      "[12198 rows x 8 columns]\n"
     ]
    }
   ],
   "source": [
    "import pandas as pd\n",
    "data = pd.read_csv('dataAudio.csv')\n",
    "print(data)"
   ]
  },
  {
   "cell_type": "code",
   "execution_count": 2,
   "id": "4356dcae",
   "metadata": {},
   "outputs": [
    {
     "name": "stdout",
     "output_type": "stream",
     "text": [
      "[['boombap']\n",
      " ['boombap']\n",
      " ['boombap']\n",
      " ...\n",
      " ['trap']\n",
      " ['trap']\n",
      " ['trap']]\n",
      "[[4.53958213e-01 1.95859610e+03 2.24209676e+03 4.12882503e+03\n",
      "  8.25474978e-02 7.35313892e+00]\n",
      " [4.64495540e-01 2.98649235e+03 2.83750815e+03 6.29251195e+03\n",
      "  1.47826015e-01 2.78249383e+00]\n",
      " [4.59968120e-01 2.37711713e+03 2.70823279e+03 5.41131728e+03\n",
      "  6.47411051e-02 8.35651875e+00]\n",
      " ...\n",
      " [5.72542429e-01 2.05558203e+03 2.28734379e+03 4.20160793e+03\n",
      "  5.97350885e-02 6.01957178e+00]\n",
      " [5.31963766e-01 2.34896283e+03 2.42514979e+03 4.92108691e+03\n",
      "  8.34877794e-02 6.25966692e+00]\n",
      " [4.85520065e-01 2.31566475e+03 2.37439202e+03 4.84172072e+03\n",
      "  9.62730384e-02 6.41397619e+00]]\n"
     ]
    }
   ],
   "source": [
    "label = data.iloc[:,-1:].values\n",
    "features = data.iloc[:,1:-1].values\n",
    "print(label)\n",
    "print(features)"
   ]
  },
  {
   "cell_type": "code",
   "execution_count": 3,
   "id": "327b9328",
   "metadata": {},
   "outputs": [
    {
     "name": "stderr",
     "output_type": "stream",
     "text": [
      "<frozen importlib._bootstrap>:228: RuntimeWarning: scipy._lib.messagestream.MessageStream size changed, may indicate binary incompatibility. Expected 56 from C header, got 64 from PyObject\n"
     ]
    },
    {
     "name": "stdout",
     "output_type": "stream",
     "text": [
      "[[ 3.52739036e-01  7.63870051e+02  1.26575254e+03  1.31960869e+03\n",
      "   3.16846157e-02 -7.62678921e-01]\n",
      " [ 3.45159262e-01  7.17773610e+02  1.07396084e+03  1.28729222e+03\n",
      "   3.68009868e-02 -3.66283298e-01]\n",
      " [ 3.95719707e-01  1.81712941e+03  1.77358351e+03  3.75719395e+03\n",
      "   8.50501282e-02  2.33451867e+00]\n",
      " ...\n",
      " [ 4.32183862e-01  1.52894416e+03  2.10080486e+03  3.30771333e+03\n",
      "   4.49241426e-02  8.44416523e+00]\n",
      " [ 4.18246657e-01  2.15226519e+03  2.34553076e+03  4.58208896e+03\n",
      "   8.05021587e-02  6.51405811e+00]\n",
      " [ 3.36112916e-01  5.93199003e+02  9.67074691e+02  1.02539380e+03\n",
      "   2.89325537e-02  1.17405534e+00]]\n"
     ]
    }
   ],
   "source": [
    "from sklearn.model_selection import train_test_split\n",
    "x_train, x_test, y_train, y_test = train_test_split(features, label, test_size = 0.3, random_state =0)\n",
    "print(x_test)"
   ]
  },
  {
   "cell_type": "code",
   "execution_count": 4,
   "id": "5be680d5",
   "metadata": {},
   "outputs": [
    {
     "name": "stderr",
     "output_type": "stream",
     "text": [
      "C:\\Users\\Cengiz\\anaconda3\\lib\\site-packages\\sklearn\\utils\\validation.py:63: DataConversionWarning: A column-vector y was passed when a 1d array was expected. Please change the shape of y to (n_samples, ), for example using ravel().\n",
      "  return f(*args, **kwargs)\n"
     ]
    },
    {
     "data": {
      "text/plain": [
       "SVC(kernel='linear')"
      ]
     },
     "execution_count": 4,
     "metadata": {},
     "output_type": "execute_result"
    }
   ],
   "source": [
    "from sklearn.svm import SVC\n",
    "svc = SVC(kernel='linear')\n",
    "svc.fit(x_train, y_train)"
   ]
  },
  {
   "cell_type": "code",
   "execution_count": 5,
   "id": "29bc23bd",
   "metadata": {},
   "outputs": [
    {
     "name": "stdout",
     "output_type": "stream",
     "text": [
      "[[268 107 109   2 226]\n",
      " [162 251  46   3 270]\n",
      " [109 112 426   8  86]\n",
      " [130 173 124   9 229]\n",
      " [176 153  41   9 431]]\n"
     ]
    }
   ],
   "source": [
    "result = svc.predict(x_test)\n",
    "from sklearn.metrics import confusion_matrix\n",
    "confmat = confusion_matrix(y_test,result)\n",
    "print(confmat)"
   ]
  },
  {
   "cell_type": "code",
   "execution_count": 6,
   "id": "8da7ccfe",
   "metadata": {},
   "outputs": [
    {
     "name": "stdout",
     "output_type": "stream",
     "text": [
      "0.37841530054644806\n",
      "0.36817509750191246\n",
      "0.36796641093781535\n",
      "0.338338308412599\n"
     ]
    }
   ],
   "source": [
    "from sklearn.metrics import accuracy_score,precision_score,recall_score,f1_score\n",
    "accuracy = accuracy_score(y_test,result)\n",
    "precision = precision_score(y_test, result,average='macro')\n",
    "recall = recall_score(y_test, result, average='macro')\n",
    "fmeasure = f1_score(y_test, result, average='macro')\n",
    "\n",
    "print(accuracy)\n",
    "print(precision)\n",
    "print(recall)\n",
    "print(fmeasure)\n",
    "\n",
    "\n"
   ]
  },
  {
   "cell_type": "code",
   "execution_count": null,
   "id": "45d57f4f",
   "metadata": {},
   "outputs": [],
   "source": []
  }
 ],
 "metadata": {
  "kernelspec": {
   "display_name": "Python 3 (ipykernel)",
   "language": "python",
   "name": "python3"
  },
  "language_info": {
   "codemirror_mode": {
    "name": "ipython",
    "version": 3
   },
   "file_extension": ".py",
   "mimetype": "text/x-python",
   "name": "python",
   "nbconvert_exporter": "python",
   "pygments_lexer": "ipython3",
   "version": "3.9.1"
  }
 },
 "nbformat": 4,
 "nbformat_minor": 5
}
